{
 "cells": [
  {
   "cell_type": "code",
   "execution_count": 1,
   "metadata": {},
   "outputs": [],
   "source": [
    "import json\n",
    "from datetime import datetime\n",
    "import uuid\n",
    "import os"
   ]
  },
  {
   "cell_type": "code",
   "execution_count": 2,
   "metadata": {},
   "outputs": [],
   "source": [
    "input_aws_file = \"./dca394b2-da28-4218-b827-aade70011b23_SO-64051-20250608-20250614.json\"\n",
    "input_week_2 = \"./week-2.json\"\n",
    "input_week_3 = \"./week-3.json\""
   ]
  },
  {
   "cell_type": "code",
   "execution_count": 3,
   "metadata": {},
   "outputs": [],
   "source": [
    "with open(input_aws_file, \"r\") as f:\n",
    "    data = json.load(f)\n",
    "\n",
    "with open(input_week_2, \"r\") as f:\n",
    "    data_week_2 = json.load(f)\n",
    "\n",
    "with open(input_week_3, \"r\") as f:\n",
    "    data_week_3 = json.load(f)"
   ]
  },
  {
   "cell_type": "code",
   "execution_count": 7,
   "metadata": {},
   "outputs": [],
   "source": [
    "tasks_list_week_2 = data_week_2[\"workitems\"][0][\"78c30344-5cfe-4744-b47f-7b51498ba6b9\"]"
   ]
  },
  {
   "cell_type": "code",
   "execution_count": 9,
   "metadata": {},
   "outputs": [
    {
     "data": {
      "text/plain": [
       "434"
      ]
     },
     "execution_count": 9,
     "metadata": {},
     "output_type": "execute_result"
    }
   ],
   "source": [
    "len(tasks_list_week_2)"
   ]
  },
  {
   "cell_type": "code",
   "execution_count": 10,
   "metadata": {},
   "outputs": [],
   "source": [
    "tasks_list_week_3 = data_week_3[\"workitems\"][0][\"78c30344-5cfe-4744-b47f-7b51498ba6b9\"]"
   ]
  },
  {
   "cell_type": "code",
   "execution_count": 11,
   "metadata": {},
   "outputs": [
    {
     "data": {
      "text/plain": [
       "652"
      ]
     },
     "execution_count": 11,
     "metadata": {},
     "output_type": "execute_result"
    }
   ],
   "source": [
    "len(tasks_list_week_3)"
   ]
  },
  {
   "cell_type": "code",
   "execution_count": 99,
   "metadata": {},
   "outputs": [],
   "source": [
    "# Separating two turn from three turn in week 2 delivery\n",
    "three_turn_count = 0\n",
    "two_turn_tasks = []\n",
    "for task in tasks_list_week_2:\n",
    "    if int(task[\"data\"][\"taskAnswers\"][0][\"dialogue_length\"]) == 3:\n",
    "        three_turn_count = three_turn_count + 1\n",
    "    else:\n",
    "        two_turn_tasks.append(task)"
   ]
  },
  {
   "cell_type": "code",
   "execution_count": 100,
   "metadata": {},
   "outputs": [
    {
     "data": {
      "text/plain": [
       "7"
      ]
     },
     "execution_count": 100,
     "metadata": {},
     "output_type": "execute_result"
    }
   ],
   "source": [
    "three_turn_count"
   ]
  },
  {
   "cell_type": "code",
   "execution_count": 36,
   "metadata": {},
   "outputs": [
    {
     "data": {
      "text/plain": [
       "[{'modelId': 'None',\n",
       "  'responseText': '<< Impacts of climate change >>\\n\\nClimate change poses profound risks to both natural and human systems worldwide. Rising global temperatures, driven by human-induced emissions, are intensifying heatwaves and disrupting ecosystems, particularly in [urban regions] where vulnerable populations are at higher health risk. Uneven shifts in precipitation have led to increased rainfall in [tropical zones], causing frequent flooding and destruction of agricultural lands, while [arid regions] suffer from drought and water scarcity.\\n\\nThe melting of glaciers and polar ice caps continues to raise sea levels, endangering low-lying [coastal areas] and small island nations. This process is projected to accelerate, potentially displacing millions and eroding natural habitats. Meanwhile, warming oceans are triggering mass coral bleaching, leading to the breakdown of marine ecosystems and affecting the livelihoods of coastal communities reliant on fisheries and tourism.\\n\\nEconomically, climate-related disasters are predicted to force millions into poverty, damaging infrastructure, reducing productivity, and threatening food security. These interconnected challenges reflect the urgent need for global mitigation and adaptation efforts.\\n\\nFrom biodiversity loss to socio-economic instability, the effects of climate change are intensifying across all continents. Without immediate, unified action, these consequences will continue to grow, placing immense pressure on governments, ecosystems, and their inhabitants.',\n",
       "  'respondedByRole': 'User',\n",
       "  'errorMessage': ''}]"
      ]
     },
     "execution_count": 36,
     "metadata": {},
     "output_type": "execute_result"
    }
   ],
   "source": [
    "two_turn_tasks[0][\"data\"][\"taskAnswers\"][0][\"turnLevelOutput\"][0][\"prompt-turn\"][\"responses\"]"
   ]
  },
  {
   "cell_type": "code",
   "execution_count": 55,
   "metadata": {},
   "outputs": [],
   "source": [
    "for task in two_turn_tasks:\n",
    "    prev_instr_dict = json.loads(task[\"data\"][\"taskAnswers\"][0][\"turnLevelOutput\"][0][\"instructions\"])\n",
    "    curr_instr_dict = json.loads(task[\"data\"][\"taskAnswers\"][0][\"turnLevelOutput\"][1][\"instructions\"])\n",
    "    metadata = set()\n",
    "    change_details = []\n",
    "    for instr in curr_instr_dict:\n",
    "        instr_id = instr[\"instruction_id\"]\n",
    "        if instr_id not in prev_instr_dict:\n",
    "            metadata.add(\"add\")\n",
    "            change_details.append({\"change\": \"add\", \"instruction_id\": instr_id})\n",
    "        elif instr != prev_instr_dict[instr_id]:\n",
    "            metadata.add(\"modify\")\n",
    "            change_details.append({\"change\": \"modify\", \"instruction_id\": instr_id})\n",
    "\n",
    "    for instr_id in prev_instr_dict:\n",
    "        if instr_id not in curr_instr_dict:\n",
    "            metadata.add(\"remove\")\n",
    "            change_details.append({\"change\": \"remove\", \"instruction_id\": instr_id})\n",
    "\n",
    "    task[\"data\"][\"taskAnswers\"][0][\"turnLevelOutput\"][0][\"instruction_change\"] = []\n",
    "    task[\"data\"][\"taskAnswers\"][0][\"turnLevelOutput\"][1][\"instruction_change\"] = list(metadata)\n"
   ]
  },
  {
   "cell_type": "code",
   "execution_count": 71,
   "metadata": {},
   "outputs": [],
   "source": [
    "new_workitems = []\n",
    "for task in two_turn_tasks:\n",
    "    task[\"data\"][\"taskAnswers\"][0][\"turnLevelOutput\"][0][\"prompt-turn\"][\"responses\"][0][\"modelId\"] = \"None\"\n",
    "    task[\"data\"][\"taskAnswers\"][0][\"turnLevelOutput\"][1][\"prompt-turn\"][\"responses\"][0][\"modelId\"] = \"None\"\n",
    "    new_workitem = {\n",
    "        \"workflow\": \"Verifiable Instruction Following - dialogue generation - 3P\",\n",
    "        \"locale\": \"en-US\",\n",
    "        \"metadata\": {},\n",
    "        \"78c30344-5cfe-4744-b47f-7b51498ba6b9\": [\n",
    "            task\n",
    "        ]\n",
    "    }\n",
    "    new_workitems.append(new_workitem)"
   ]
  },
  {
   "cell_type": "code",
   "execution_count": 80,
   "metadata": {},
   "outputs": [],
   "source": [
    "final_workitems = []\n",
    "\n",
    "for i in range(420):\n",
    "    workitem = {}\n",
    "    for key, value in new_workitems[i].items():\n",
    "        workitem[key] = value\n",
    "    for key, value in data['workitems'][i].items():\n",
    "        workitem[key] = value\n",
    "    final_workitems.append(workitem)\n",
    "\n",
    "with open(\"final_workitems.json\", \"w\") as f:\n",
    "    json.dump(final_workitems, f)"
   ]
  },
  {
   "cell_type": "code",
   "execution_count": 81,
   "metadata": {},
   "outputs": [
    {
     "data": {
      "text/plain": [
       "420"
      ]
     },
     "execution_count": 81,
     "metadata": {},
     "output_type": "execute_result"
    }
   ],
   "source": [
    "with open(\"final_workitems.json\", 'r') as f:\n",
    "    final_workitems = json.load(f)\n",
    "len(final_workitems)"
   ]
  },
  {
   "cell_type": "code",
   "execution_count": 72,
   "metadata": {},
   "outputs": [
    {
     "data": {
      "text/plain": [
       "427"
      ]
     },
     "execution_count": 72,
     "metadata": {},
     "output_type": "execute_result"
    }
   ],
   "source": [
    "len(new_workitems)"
   ]
  },
  {
   "cell_type": "code",
   "execution_count": 82,
   "metadata": {},
   "outputs": [],
   "source": [
    "# Separating three turn from two turn in week 3 delivery\n",
    "two_turn_count = 0\n",
    "three_turn_tasks = []\n",
    "for task in tasks_list_week_3:\n",
    "    if int(task[\"data\"][\"taskAnswers\"][0][\"dialogue_length\"]) == 2:\n",
    "        two_turn_count = two_turn_count + 1\n",
    "    else:\n",
    "        three_turn_tasks.append(task)"
   ]
  },
  {
   "cell_type": "code",
   "execution_count": 83,
   "metadata": {},
   "outputs": [],
   "source": [
    "for task in three_turn_tasks:\n",
    "    prev_instr_dict = json.loads(task[\"data\"][\"taskAnswers\"][0][\"turnLevelOutput\"][0][\"instructions\"])\n",
    "    curr_instr_dict = json.loads(task[\"data\"][\"taskAnswers\"][0][\"turnLevelOutput\"][1][\"instructions\"])\n",
    "    metadata = set()\n",
    "    change_details = []\n",
    "    for instr in curr_instr_dict:\n",
    "        instr_id = instr[\"instruction_id\"]\n",
    "        if instr_id not in prev_instr_dict:\n",
    "            metadata.add(\"add\")\n",
    "            change_details.append({\"change\": \"add\", \"instruction_id\": instr_id})\n",
    "        elif instr != prev_instr_dict[instr_id]:\n",
    "            metadata.add(\"modify\")\n",
    "            change_details.append({\"change\": \"modify\", \"instruction_id\": instr_id})\n",
    "\n",
    "    for instr_id in prev_instr_dict:\n",
    "        if instr_id not in curr_instr_dict:\n",
    "            metadata.add(\"remove\")\n",
    "            change_details.append({\"change\": \"1remove\", \"instruction_id\": instr_id})\n",
    "\n",
    "    task[\"data\"][\"taskAnswers\"][0][\"turnLevelOutput\"][0][\"instruction_change\"] = []\n",
    "    task[\"data\"][\"taskAnswers\"][0][\"turnLevelOutput\"][1][\"instruction_change\"] = list(metadata)\n"
   ]
  },
  {
   "cell_type": "code",
   "execution_count": 84,
   "metadata": {},
   "outputs": [],
   "source": [
    "new_workitems = []\n",
    "for task in three_turn_tasks:\n",
    "    task[\"data\"][\"taskAnswers\"][0][\"turnLevelOutput\"][0][\"prompt-turn\"][\"responses\"][0][\"modelId\"] = \"None\"\n",
    "    task[\"data\"][\"taskAnswers\"][0][\"turnLevelOutput\"][1][\"prompt-turn\"][\"responses\"][0][\"modelId\"] = \"None\"\n",
    "    new_workitem = {\n",
    "        \"workflow\": \"Verifiable Instruction Following - dialogue generation - 3P\",\n",
    "        \"locale\": \"en-US\",\n",
    "        \"metadata\": {},\n",
    "        \"78c30344-5cfe-4744-b47f-7b51498ba6b9\": [\n",
    "            task\n",
    "        ]\n",
    "    }\n",
    "    new_workitems.append(new_workitem)"
   ]
  },
  {
   "cell_type": "code",
   "execution_count": 85,
   "metadata": {},
   "outputs": [
    {
     "data": {
      "text/plain": [
       "551"
      ]
     },
     "execution_count": 85,
     "metadata": {},
     "output_type": "execute_result"
    }
   ],
   "source": [
    "len(new_workitems)"
   ]
  },
  {
   "cell_type": "code",
   "execution_count": 88,
   "metadata": {},
   "outputs": [],
   "source": [
    "final_workitems = []\n",
    "\n",
    "for i in range(500):\n",
    "    workitem = {}\n",
    "    for key, value in new_workitems[i].items():\n",
    "        workitem[key] = value\n",
    "    for key, value in data['workitems'][i+500].items():\n",
    "        workitem[key] = value\n",
    "    final_workitems.append(workitem)\n",
    "\n",
    "with open(\"final_workitems.json\", \"w\") as f:\n",
    "    json.dump(final_workitems, f)"
   ]
  },
  {
   "cell_type": "code",
   "execution_count": 91,
   "metadata": {},
   "outputs": [],
   "source": [
    "# Separating two turn from three turn in week 3 delivery\n",
    "three_turn_count = 0\n",
    "two_turn_tasks_resubmission = []\n",
    "for task in tasks_list_week_3:\n",
    "    if int(task[\"data\"][\"taskAnswers\"][0][\"dialogue_length\"]) == 3:\n",
    "        three_turn_count = three_turn_count + 1\n",
    "    else:\n",
    "        two_turn_tasks_resubmission.append(task)"
   ]
  },
  {
   "cell_type": "code",
   "execution_count": 93,
   "metadata": {},
   "outputs": [
    {
     "data": {
      "text/plain": [
       "101"
      ]
     },
     "execution_count": 93,
     "metadata": {},
     "output_type": "execute_result"
    }
   ],
   "source": [
    "len(two_turn_tasks_resubmission)"
   ]
  },
  {
   "cell_type": "code",
   "execution_count": 94,
   "metadata": {},
   "outputs": [],
   "source": [
    "for task in two_turn_tasks_resubmission:\n",
    "    prev_instr_dict = json.loads(task[\"data\"][\"taskAnswers\"][0][\"turnLevelOutput\"][0][\"instructions\"])\n",
    "    curr_instr_dict = json.loads(task[\"data\"][\"taskAnswers\"][0][\"turnLevelOutput\"][1][\"instructions\"])\n",
    "    metadata = set()\n",
    "    change_details = []\n",
    "    for instr in curr_instr_dict:\n",
    "        instr_id = instr[\"instruction_id\"]\n",
    "        if instr_id not in prev_instr_dict:\n",
    "            metadata.add(\"add\")\n",
    "            change_details.append({\"change\": \"add\", \"instruction_id\": instr_id})\n",
    "        elif instr != prev_instr_dict[instr_id]:\n",
    "            metadata.add(\"modify\")\n",
    "            change_details.append({\"change\": \"modify\", \"instruction_id\": instr_id})\n",
    "\n",
    "    for instr_id in prev_instr_dict:\n",
    "        if instr_id not in curr_instr_dict:\n",
    "            metadata.add(\"remove\")\n",
    "            change_details.append({\"change\": \"1remove\", \"instruction_id\": instr_id})\n",
    "\n",
    "    task[\"data\"][\"taskAnswers\"][0][\"turnLevelOutput\"][0][\"instruction_change\"] = []\n",
    "    task[\"data\"][\"taskAnswers\"][0][\"turnLevelOutput\"][1][\"instruction_change\"] = list(metadata)\n"
   ]
  },
  {
   "cell_type": "code",
   "execution_count": 95,
   "metadata": {},
   "outputs": [],
   "source": [
    "new_workitems = []\n",
    "for task in two_turn_tasks_resubmission:\n",
    "    task[\"data\"][\"taskAnswers\"][0][\"turnLevelOutput\"][0][\"prompt-turn\"][\"responses\"][0][\"modelId\"] = \"None\"\n",
    "    task[\"data\"][\"taskAnswers\"][0][\"turnLevelOutput\"][1][\"prompt-turn\"][\"responses\"][0][\"modelId\"] = \"None\"\n",
    "    new_workitem = {\n",
    "        \"workflow\": \"Verifiable Instruction Following - dialogue generation - 3P\",\n",
    "        \"locale\": \"en-US\",\n",
    "        \"metadata\": {},\n",
    "        \"78c30344-5cfe-4744-b47f-7b51498ba6b9\": [\n",
    "            task\n",
    "        ]\n",
    "    }\n",
    "    new_workitems.append(new_workitem)"
   ]
  },
  {
   "cell_type": "code",
   "execution_count": 97,
   "metadata": {},
   "outputs": [],
   "source": [
    "final_workitems = []\n",
    "\n",
    "for i in range(80):\n",
    "    workitem = {}\n",
    "    for key, value in new_workitems[i].items():\n",
    "        workitem[key] = value\n",
    "    for key, value in data['workitems'][i+420].items():\n",
    "        workitem[key] = value\n",
    "    final_workitems.append(workitem)\n",
    "\n",
    "with open(\"final_workitems.json\", \"w\") as f:\n",
    "    json.dump(final_workitems, f)"
   ]
  }
 ],
 "metadata": {
  "kernelspec": {
   "display_name": "base",
   "language": "python",
   "name": "python3"
  },
  "language_info": {
   "codemirror_mode": {
    "name": "ipython",
    "version": 3
   },
   "file_extension": ".py",
   "mimetype": "text/x-python",
   "name": "python",
   "nbconvert_exporter": "python",
   "pygments_lexer": "ipython3",
   "version": "3.12.4"
  }
 },
 "nbformat": 4,
 "nbformat_minor": 2
}
