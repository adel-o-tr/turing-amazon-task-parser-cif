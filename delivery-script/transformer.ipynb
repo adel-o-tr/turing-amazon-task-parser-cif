{
 "cells": [
  {
   "cell_type": "code",
   "execution_count": 3,
   "metadata": {},
   "outputs": [],
   "source": [
    "import json\n",
    "from datetime import datetime\n",
    "import uuid\n",
    "import os"
   ]
  },
  {
   "cell_type": "code",
   "execution_count": 15,
   "metadata": {},
   "outputs": [],
   "source": [
    "input_dir = \"./delivery-17-jun\"\n",
    "output_file = \"final_combined_workitems.json\""
   ]
  },
  {
   "cell_type": "code",
   "execution_count": 5,
   "metadata": {},
   "outputs": [],
   "source": [
    "def format_instructions(instr):\n",
    "    return json.dumps(instr[\"instructions\"])"
   ]
  },
  {
   "cell_type": "code",
   "execution_count": 18,
   "metadata": {},
   "outputs": [
    {
     "name": "stdout",
     "output_type": "stream",
     "text": [
      "✅ Final combined JSON written to final_combined_workitems.json\n"
     ]
    },
    {
     "name": "stderr",
     "output_type": "stream",
     "text": [
      "C:\\Users\\Compuomart\\AppData\\Local\\Temp\\ipykernel_7228\\2269499142.py:40: DeprecationWarning: datetime.datetime.utcnow() is deprecated and scheduled for removal in a future version. Use timezone-aware objects to represent datetimes in UTC: datetime.datetime.now(datetime.UTC).\n",
      "  \"labelledTimestamp\": datetime.utcnow().strftime(\"%Y-%m-%dT%H:%M:%S.0Z\"),\n"
     ]
    }
   ],
   "source": [
    "\n",
    "# Final structure\n",
    "final_output = {\n",
    "    \"workitems\": []\n",
    "}\n",
    "\n",
    "# Loop through all JSON files in input directory\n",
    "for filename in os.listdir(input_dir):\n",
    "    if filename.endswith(\".json\"):\n",
    "        input_path = os.path.join(input_dir, filename)\n",
    "        task_id = os.path.splitext(filename)[0]\n",
    "\n",
    "        with open(input_path, \"r\") as f:\n",
    "            data = json.load(f)\n",
    "\n",
    "        # Build per-task structure\n",
    "        task_item = {\n",
    "            \"workItemId\": task_id,\n",
    "            \"workflow\": \"Verifiable Instruction Following\",\n",
    "            \"locale\": \"en_US\",\n",
    "            \"inputData\": {\n",
    "                \"turnInputData\": []\n",
    "            },\n",
    "            \"metadata\": {},\n",
    "            task_id: [\n",
    "                {\n",
    "                    \"data\": {\n",
    "                        \"taskAnswers\": [\n",
    "                            {\n",
    "                                \"turnLevelOutput\": [],\n",
    "                                \"language\": \"en_US\",\n",
    "                                \"dialogue_length\": str(data[\"dialogue_metadata\"][\"dialogue_length\"]),\n",
    "                                \"task_type\": data[\"dialogue_metadata\"][\"task_type\"],\n",
    "                                \"task_difficulty\": data[\"dialogue_metadata\"][\"task_difficulty\"]\n",
    "                            }\n",
    "                        ]\n",
    "                    },\n",
    "                    \"metadata\": {\n",
    "                        \"taskId\": task_id,\n",
    "                        \"operationType\": \"LABELLING\",\n",
    "                        \"labelledTimestamp\": datetime.utcnow().strftime(\"%Y-%m-%dT%H:%M:%S.0Z\"),\n",
    "                        \"obfuscatedDaAlias\": \"Turing\"\n",
    "                    }\n",
    "                }\n",
    "            ]\n",
    "        }\n",
    "\n",
    "        # Handle turns and responses\n",
    "        for turn in data[\"turns\"]:\n",
    "            responses = [\n",
    "                {\n",
    "                    \"modelId\": \"Nova Premier\",\n",
    "                    \"responseText\": turn.get(\"response\", \"\"),\n",
    "                    \"respondedByRole\": \"User\",\n",
    "                    \"errorMessage\": \"\"\n",
    "                }\n",
    "            ]\n",
    "\n",
    "            if \"nova_response\" in turn:\n",
    "                responses.append({\n",
    "                    \"modelId\": \"Nova Premier\",\n",
    "                    \"responseText\": turn[\"nova_response\"],\n",
    "                    \"respondedByRole\": \"Bot\",\n",
    "                    \"errorMessage\": \"\"\n",
    "                })\n",
    "\n",
    "            if \"4o_response\" in turn:\n",
    "                responses.append({\n",
    "                    \"modelId\": \"GPT-4o\",\n",
    "                    \"responseText\": turn[\"4o_response\"],\n",
    "                    \"respondedByRole\": \"Bot\",\n",
    "                    \"errorMessage\": \"\"\n",
    "                })\n",
    "\n",
    "            if \"deepseek_response\" in turn:\n",
    "                responses.append({\n",
    "                    \"modelId\": \"DeepSeek\",\n",
    "                    \"responseText\": turn[\"deepseek_response\"],\n",
    "                    \"respondedByRole\": \"Bot\",\n",
    "                    \"errorMessage\": \"\"\n",
    "                })\n",
    "\n",
    "            if \"mistral_response\" in turn:\n",
    "                responses.append({\n",
    "                    \"modelId\": \"Mistral\",\n",
    "                    \"responseText\": turn[\"mistral_response\"],\n",
    "                    \"respondedByRole\": \"Bot\",\n",
    "                    \"errorMessage\": \"\"\n",
    "                })\n",
    "\n",
    "            turn_output = {\n",
    "                \"prompt-turn\": {\n",
    "                    \"prompt\": turn[\"prompt\"],\n",
    "                    \"promptedByRole\": \"User\",\n",
    "                    \"selectedResponseIndex\": 1,\n",
    "                    \"responses\": responses\n",
    "                },\n",
    "                \"instructions\": format_instructions(turn[\"instructions\"]),\n",
    "                \"instruction_change\": turn[\"instructions\"].get(\"metadata\", [])\n",
    "            }\n",
    "\n",
    "            task_item[task_id][0][\"data\"][\"taskAnswers\"][0][\"turnLevelOutput\"].append(turn_output)\n",
    "\n",
    "        # Add the task item to the top-level workitems list\n",
    "        final_output[\"workitems\"].append(task_item)\n",
    "\n",
    "# Write final combined JSON\n",
    "with open(output_file, \"w\") as f:\n",
    "    json.dump(final_output, f, indent=4)\n",
    "\n",
    "print(f\"✅ Final combined JSON written to {output_file}\")"
   ]
  }
 ],
 "metadata": {
  "kernelspec": {
   "display_name": "base",
   "language": "python",
   "name": "python3"
  },
  "language_info": {
   "codemirror_mode": {
    "name": "ipython",
    "version": 3
   },
   "file_extension": ".py",
   "mimetype": "text/x-python",
   "name": "python",
   "nbconvert_exporter": "python",
   "pygments_lexer": "ipython3",
   "version": "3.12.4"
  }
 },
 "nbformat": 4,
 "nbformat_minor": 2
}
