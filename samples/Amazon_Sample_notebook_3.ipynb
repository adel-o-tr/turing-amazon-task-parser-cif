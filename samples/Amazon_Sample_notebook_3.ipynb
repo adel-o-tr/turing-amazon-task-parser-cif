{
  "nbformat": 4,
  "nbformat_minor": 0,
  "metadata": {
    "colab": {
      "provenance": []
    },
    "kernelspec": {
      "name": "python3",
      "display_name": "Python 3"
    },
    "language_info": {
      "name": "python"
    }
  },
  "cells": [
    {
      "cell_type": "markdown",
      "source": [
        "**[user]**\n",
        "\n",
        "Generate a quarterly marketing email report summary in valid JSON wrapped in ``` on either side. Begin with Email Begin: and end with Email End.  \n",
        "• Under the key “Highlights” include exactly five points  \n",
        "• Use the word “IMPORTANT” exactly once in all caps  \n",
        "• Include a “P.S.” field with a short note  \n",
        "• Mention ROI, conversion, and engagement each at least once  \n",
        "• Use campaign at least three times  \n",
        "• Ensure the letter C appears exactly 6 times  \n",
        "• Do not use the words delay or issue    \n",
        "• Total word count must be under 200\n",
        "\n",
        "```csv\n",
        "Campaign,Impressions,Clicks,CTR (%),Conversions,Conv Rate (%),Spend ($),CPC ($),Revenue ($),ROI (%),Engagement Score\n",
        "Spring_Sale,120000,4800,4.0,320,6.7,15000,3.12,45000,200,82\n",
        "New_Product_Launch,95000,3800,4.0,290,7.6,12500,3.29,36000,188,75\n",
        "Summer_Promo,110000,5100,4.6,410,8.0,18000,3.53,55000,206,88\n",
        "Holiday_Countdown,130000,6500,5.0,580,8.9,20000,3.08,70000,250,90\n",
        "Loyalty_ThankYou,80000,3200,4.0,260,8.1,10000,3.13,30000,200,80\n",
        "```"
      ],
      "metadata": {
        "id": "FybqsTfqX1GA"
      }
    },
    {
      "cell_type": "markdown",
      "source": [
        "**[tool]**\n",
        "\n",
        "```\n",
        "{\n",
        "  \"instruction_id_list\": [\n",
        "    \"startend:start_checker\",\n",
        "    \"startend:end_checker\",\n",
        "    \"detectable_format:json_format\",\n",
        "    \"keywords:frequency\",\n",
        "    \"keywords:existence\",\n",
        "    \"keywords:frequency\",\n",
        "    \"keywords:letter_frequency\",\n",
        "    \"keywords:forbidden_words\",\n",
        "    \"length_constraints:number_words\",\n",
        "    \"detectable_content:postscript\"\n",
        "  ],\n",
        "  \"kwargs\": [\n",
        "    {\n",
        "      \"start_phrase\": \"Email Begin:\"\n",
        "    },\n",
        "    {\n",
        "      \"end_phrase\": \"Email End.\"\n",
        "    },\n",
        "    {\n",
        "      \"keyword\": \"IMPORTANT\",\n",
        "      \"relation\": \"equal to\",\n",
        "      \"frequency\": 1\n",
        "    },\n",
        "    {\n",
        "      \"keywords\": [\"ROI\", \"conversion\", \"engagement\"]\n",
        "    },\n",
        "    {\n",
        "      \"keyword\": \"campaign\",\n",
        "      \"relation\": \"at least\",\n",
        "      \"frequency\": 3\n",
        "    },\n",
        "    {\n",
        "      \"letter\": \"C\",\n",
        "      \"let_relation\": \"equal to\",\n",
        "      \"let_frequency\": 6\n",
        "    },\n",
        "    {\n",
        "      \"forbidden_words\": [\"delay\", \"issue\"]\n",
        "    },\n",
        "    {\n",
        "      \"relation\": \"less than\",\n",
        "      \"num_words\": 200\n",
        "    },\n",
        "    {\n",
        "      \"postscript_marker\": \"P.S.\"\n",
        "    }\n",
        "  ]\n",
        "}\n",
        "```"
      ],
      "metadata": {
        "id": "k5DMI-yNX1zT"
      }
    },
    {
      "cell_type": "markdown",
      "source": [
        "**[assistant]**\n",
        "\n",
        "\n",
        "Email Begin:\n",
        "\n",
        "```json\n",
        "{\n",
        "  \"Subject\": \"Quarterly Campaign Report Summary\",\n",
        "  \"Highlights\": [\n",
        "    \"Holiday Countdown campaign achieved the highest ROI at 250 percent\",\n",
        "    \"Summer Promo campaign led in conversions with 410 total\",\n",
        "    \"Loyalty ThankYou campaign saw strong engagement scoring 80\",\n",
        "    \"Spring Sale campaign had the lowest CPC improving cost control\",\n",
        "    \"New Product Launch campaign sustained consistent conversion performance\"\n",
        "  ],\n",
        "  \"Summary\": \"This quarter featured five core campaigns each contributing to growth in ROI conversion and engagement. The Holiday Countdown stood out with top conversion and engagement metrics. Summer Promo continued to strengthen performance while maintaining budget efficiency. Spring Sale controlled spend effectively. Each campaign showed characteristic strengths enhancing our collective impact. \"IMPORTANT\" metrics were reviewed to support upcoming strategic shifts. Campaign consistency and communication will be key moving forward.\",\n",
        "  \"P.S.\": \"Thanks for helping our campaigns connect with customers more effectively.\"\n",
        "}\n",
        "```\n",
        "Email End.\n",
        "\n"
      ],
      "metadata": {
        "id": "TNlqTnedX2TB"
      }
    },
    {
      "cell_type": "markdown",
      "source": [
        "**[user]**\n",
        "\n",
        "Classification Begin:\n",
        "Using the CSV data, sort each campaign into one of three ROI tiers—High ROI (≥220%), Medium ROI (180%–219%), Low ROI (< 180%). Produce exactly three numbered sections titled “High ROI,” “Medium ROI,” and “Low ROI,” listing campaign names alongside their ROI values. Mention ROI exactly 13 times. Do not use delay or issue. End with Classification End. Keep the entire output under 150 words.\n"
      ],
      "metadata": {
        "id": "-1lHkIRbX2vk"
      }
    },
    {
      "cell_type": "markdown",
      "source": [
        "**[tool]**\n",
        "\n",
        "```\n",
        "{\n",
        "  \"instruction_id_list\": [\n",
        "    \"startend:end_checker\",\n",
        "    \"detectable_format:numbered_list\",\n",
        "    \"keywords:frequency\",\n",
        "    \"keywords:forbidden_words\",\n",
        "    \"length_constraints:number_words\"\n",
        "  ],\n",
        "  \"kwargs\": [\n",
        "\n",
        "    {\n",
        "      \"end_phrase\": \"Classification End.\"\n",
        "    },\n",
        "    {\n",
        "      \"relation\": \"equal to\",\n",
        "      \"num_numbered_items\": 3\n",
        "    },\n",
        "    {\n",
        "      \"keyword\": \"ROI\",\n",
        "      \"relation\": \"equal to\",\n",
        "      \"frequency\": 13\n",
        "    },\n",
        "    {\n",
        "      \"forbidden_words\": [\"delay\", \"issue\"]\n",
        "    },\n",
        "    {\n",
        "      \"relation\": \"less than\",\n",
        "      \"num_words\": 150\n",
        "    }\n",
        "  ]\n",
        "}\n",
        "```"
      ],
      "metadata": {
        "id": "92Y9_NEkez5i"
      }
    },
    {
      "cell_type": "markdown",
      "source": [
        "**[assistant]**\n",
        "\n",
        "1. **\"High ROI\"**\n",
        "\n",
        "* Holiday_Countdown: ROI 250\n",
        "\n",
        "\n",
        "2. **\"Medium ROI\"**\n",
        "\n",
        "* Spring_Sale: ROI 200\n",
        "* Loyalty_ThankYou: ROI 200\n",
        "* New_Product_Launch: ROI 188\n",
        "* Summer_Promo: ROI 206\n",
        "\n",
        "3. **\"Low ROI\"**\n",
        "\n",
        "* (No campaigns in this tier)\n",
        "\n",
        "This quarter’s campaign ROI classification highlights how strategic alignment drives results. Holiday\\_Countdown leads with top-tier ROI while Summer\\_Promo also exceeded the 200 mark. The Medium ROI tier reflects consistent campaign contributions with values just below the high threshold. No campaign fell into the Low ROI category this time which confirms strong cross-channel performance. Overall ROI analysis shows focused execution with measurable gains.\n",
        "\n",
        "Classification End.\n"
      ],
      "metadata": {
        "id": "fzrgqwrnX3Eb"
      }
    },
    {
      "cell_type": "markdown",
      "source": [
        "**[incorrect-assistant]**\n",
        "\n",
        "\n",
        "\n",
        "Classification Begin:\n",
        "**High ROI**\n",
        "\n",
        "* Holiday\\_Countdown: ROI 250\n",
        "* Loyalty\\_ThankYou: ROI 200\n",
        "\n",
        "**Medium ROI**\n",
        "\n",
        "* Summer\\_Promo: ROI 206\n",
        "* New\\_Product\\_Launch: ROI 188\n",
        "\n",
        "**Low ROI**\n",
        "\n",
        "* Spring\\_Sale: ROI 200\n",
        "\n",
        "These campaigns reflect a healthy return overall. The top performers are clearly leading while others need some improvement. ROI can guide future direction effectively.\n",
        "\n",
        "Classification End.\n",
        "\n"
      ],
      "metadata": {
        "id": "XMyD3gEsfTxa"
      }
    }
  ]
}