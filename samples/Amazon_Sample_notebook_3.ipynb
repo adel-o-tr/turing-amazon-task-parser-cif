{
  "nbformat": 4,
  "nbformat_minor": 0,
  "metadata": {
    "colab": {
      "provenance": []
    },
    "kernelspec": {
      "name": "python3",
      "display_name": "Python 3"
    },
    "language_info": {
      "name": "python"
    }
  },
  "cells": [
    {
      "cell_type": "markdown",
      "source": [
        "**[user]**\n",
        "\n",
        "Generate a quarterly marketing email report summary in valid JSON wrapped in ``` on either side. Begin with Email Begin: and end with Email End.  \n",
        "• Under the key “Highlights” include exactly five points  \n",
        "• Use the word “IMPORTANT” exactly once in all caps  \n",
        "• Include a “P.S.” field with a short note  \n",
        "• Mention ROI, conversion, and engagement each at least once  \n",
        "• Use campaign at least three times  \n",
        "• Ensure the letter C appears exactly 7 times  \n",
        "• Do not use the words delay or issue    \n",
        "• Total word count must be under 200\n",
        "\n",
        "```csv\n",
        "Campaign,Impressions,Clicks,CTR (%),Conversions,Conv Rate (%),Spend ($),CPC ($),Revenue ($),ROI (%),Engagement Score\n",
        "Spring_Sale,120000,4800,4.0,320,6.7,15000,3.12,45000,200,82\n",
        "New_Product_Launch,95000,3800,4.0,290,7.6,12500,3.29,36000,188,75\n",
        "Summer_Promo,110000,5100,4.6,410,8.0,18000,3.53,55000,206,88\n",
        "Holiday_Countdown,130000,6500,5.0,580,8.9,20000,3.08,70000,250,90\n",
        "Loyalty_ThankYou,80000,3200,4.0,260,8.1,10000,3.13,30000,200,80\n",
        "```"
      ],
      "metadata": {
        "id": "FybqsTfqX1GA"
      }
    },
    {
      "cell_type": "markdown",
      "source": [
        "**[turn_metadata]**\n",
        "\n",
        "```\n",
        "{\n",
        "  \"instruction_id_list\": [\n",
        "    \"startend:start_checker\",\n",
        "    \"startend:end_checker\",\n",
        "    \"detectable_format:json_format\",\n",
        "    \"keywords:frequency\",\n",
        "    \"keywords:frequency\",\n",
        "    \"keywords:letter_frequency\",\n",
        "    \"keywords:forbidden_words\",\n",
        "    \"length_constraints:number_words\",\n",
        "    \"detectable_content:postscript\"\n",
        "  ],\n",
        "  \"kwargs\": [\n",
        "    {\n",
        "      \"start_phrase\": \"Email Begin:\"\n",
        "    },\n",
        "    {\n",
        "      \"end_phrase\": \"Email End.\"\n",
        "    },\n",
        "    {\n",
        "      \"keyword\": \"IMPORTANT\",\n",
        "      \"relation\": \"equal to\",\n",
        "      \"frequency\": 1\n",
        "    },\n",
        "\n",
        "      {\n",
        "      \"keyword\": \"ROI\",\n",
        "      \"relation\": \"at least\",\n",
        "      \"frequency\": 1\n",
        "    },\n",
        "      {\n",
        "      \"keyword\": \"conversion\",\n",
        "      \"relation\": \"at least\",\n",
        "      \"frequency\": 1\n",
        "    },\n",
        "      {\n",
        "      \"keyword\": \"engagement\",\n",
        "      \"relation\": \"at least\",\n",
        "      \"frequency\": 1\n",
        "    },\n",
        "    {\n",
        "      \"keyword\": \"campaign\",\n",
        "      \"relation\": \"at least\",\n",
        "      \"frequency\": 3\n",
        "    },\n",
        "    {\n",
        "      \"letter\": \"C\",\n",
        "      \"let_relation\": \"equal to\",\n",
        "      \"let_frequency\": 7\n",
        "    },\n",
        "    {\n",
        "      \"forbidden_words\": [\"delay\", \"issue\"]\n",
        "    },\n",
        "    {\n",
        "      \"relation\": \"less than\",\n",
        "      \"num_words\": 200\n",
        "    },\n",
        "    {\n",
        "      \"postscript_marker\": \"P.S.\"\n",
        "    }\n",
        "  ]\n",
        "}\n",
        "```"
      ],
      "metadata": {
        "id": "k5DMI-yNX1zT"
      }
    },
    {
      "cell_type": "markdown",
      "source": [
        "**[assistant]**\n",
        "\n",
        "\n",
        "Email Begin:\n",
        "\n",
        "```json\n",
        "{\n",
        "  \"Subject\": \"Quarterly Campaign Report Summary\",\n",
        "  \"Highlights\": [\n",
        "    \"Holiday Countdown campaign achieved the highest ROI at 250 percent\",\n",
        "    \"Summer Promo campaign led in conversions with 410 total\",\n",
        "    \"Loyalty ThankYou campaign saw strong engagement scoring 80\",\n",
        "    \"Holiday Countdown campaign had the lowest CPC improving cost control\",\n",
        "    \"Holiday_Countdown also scored the top engagement at 90\"\n",
        "  ],\n",
        "  \"Summary\": \"This quarter featured five core campaigns each contributing to growth in ROI conversion and engagement. The Holiday Countdown stood out with top conversion and engagement metrics. Summer Promo continued to strengthen performance while maintaining budget efficiency. Spring Sale controlled spend effectively. Each campaign showed characteristic strengths enhancing our collective impact. \"IMPORTANT\" metrics were reviewed to support upcoming strategic shifts. Campaign consistency and communication will be key moving forward.\",\n",
        "  \"P.S.\": \"Thanks for helping our campaigns connect with customers more effectively.\"\n",
        "}\n",
        "```\n",
        "Email End.\n",
        "\n"
      ],
      "metadata": {
        "id": "TNlqTnedX2TB"
      }
    },
    {
      "cell_type": "markdown",
      "source": [
        "**[user]**\n",
        "\n",
        "Classification Begin:\n",
        "Using the CSV data, sort each campaign into one of three ROI tiers—High ROI (≥220%), Medium ROI (180%–219%), Low ROI (< 180%). Produce exactly three numbered sections titled “High ROI,” “Medium ROI,” and “Low ROI,” (with quotes) listing campaign names alongside their ROI values. Mention ROI exactly 13 times. Do not use delay or issue. End with Classification End. Keep the entire output under 150 words.\n"
      ],
      "metadata": {
        "id": "-1lHkIRbX2vk"
      }
    },
    {
      "cell_type": "markdown",
      "source": [
        "**[turn_metadata]**\n",
        "\n",
        "\n",
        "```\n",
        "{\n",
        "  \"instruction_id_list\": [\n",
        "    \"startend:end_checker\",\n",
        "    \"detectable_format:numbered_list\",\n",
        "    \"keywords:frequency\",\n",
        "    \"keywords:forbidden_words\",\n",
        "    \"length_constraints:number_words\"\n",
        "  ],\n",
        "  \"kwargs\": [\n",
        "\n",
        "    {\n",
        "      \"end_phrase\": \"Classification End.\"\n",
        "    },\n",
        "    {\n",
        "      \"relation\": \"equal to\",\n",
        "      \"num_numbered_items\": 3\n",
        "    },\n",
        "    {\n",
        "      \"keyword\": \"ROI\",\n",
        "      \"relation\": \"equal to\",\n",
        "      \"frequency\": 13\n",
        "    },\n",
        "    {\n",
        "      \"forbidden_words\": [\"delay\", \"issue\"]\n",
        "    },\n",
        "    {\n",
        "      \"relation\": \"less than\",\n",
        "      \"num_words\": 150\n",
        "    }\n",
        "  ]\n",
        "}\n",
        "```"
      ],
      "metadata": {
        "id": "92Y9_NEkez5i"
      }
    },
    {
      "cell_type": "markdown",
      "source": [
        "**[assistant]**\n",
        "\n",
        "1. \"High ROI\"\n",
        "\n",
        "* Holiday_Countdown: ROI 250\n",
        "\n",
        "\n",
        "2. \"Medium ROI\"\n",
        "\n",
        "* Spring_Sale: ROI 200\n",
        "* Loyalty_ThankYou: ROI 200\n",
        "* New_Product_Launch: ROI 188\n",
        "* Summer_Promo: ROI 206\n",
        "\n",
        "3. \"Low ROI\"\n",
        "\n",
        "* (No campaigns in this tier)\n",
        "\n",
        "This quarter’s campaign ROI classification highlights how strategic alignment drives results. Holiday\\_Countdown leads with top-tier ROI while Summer\\_Promo also exceeded the 200 mark. The Medium ROI tier reflects consistent campaign contributions with values just below the high threshold. No campaign fell into the Low ROI category this time which confirms strong cross-channel performance. Overall ROI analysis shows focused execution with measurable gains.\n",
        "\n",
        "Classification End.\n"
      ],
      "metadata": {
        "id": "fzrgqwrnX3Eb"
      }
    },
    {
      "cell_type": "markdown",
      "source": [
        "**[assistant_nova]**\n",
        "\n",
        "Classification Begin:\n",
        "\n",
        "Here are the campaigns sorted by ROI tiers:\n",
        "\n",
        "1. **High ROI (≥220%)**\n",
        "   - Holiday_Countdown: 250% ROI\n",
        "\n",
        "2. **Medium ROI (180%–219%)**\n",
        "   - Spring_Sale: 200% ROI\n",
        "   - New_Product_Launch: 188% ROI\n",
        "   - Summer_Promo: 206% ROI\n",
        "   - Loyalty_ThankYou: 200% ROI\n",
        "\n",
        "3. **Low ROI (< 180%)**\n",
        "   - No campaigns fall into this category.\n",
        "\n",
        "All campaigns achieved at least Medium ROI, with Holiday_Countdown excelling in the High ROI category. ROI was a critical metric for evaluating each campaign's success. The consistent ROI performance across all campaigns highlights effective strategies.\n",
        "\n",
        "Classification End."
      ],
      "metadata": {
        "id": "vvWSXWSE9b6-"
      }
    },
    {
      "cell_type": "markdown",
      "source": [
        "**[assistant_4o]**\n",
        "\n",
        "\n",
        "\n",
        "Classification Begin:\n",
        "**High ROI**\n",
        "\n",
        "* Holiday\\_Countdown: ROI 250\n",
        "* Loyalty\\_ThankYou: ROI 200\n",
        "\n",
        "**Medium ROI**\n",
        "\n",
        "* Summer\\_Promo: ROI 206\n",
        "* New\\_Product\\_Launch: ROI 188\n",
        "\n",
        "**Low ROI**\n",
        "\n",
        "* Spring\\_Sale: ROI 200\n",
        "\n",
        "These campaigns reflect a healthy return overall. The top performers are clearly leading while others need some improvement. ROI can guide future direction effectively.\n",
        "\n",
        "Classification End.\n",
        "\n"
      ],
      "metadata": {
        "id": "XMyD3gEsfTxa"
      }
    },
    {
      "cell_type": "markdown",
      "source": [
        "**[assistant_o4-mini-high]**\n",
        "\n",
        "Classification Begin:\n",
        "\n",
        "1. “High ROI,”\n",
        "\n",
        "* Holiday\\_Countdown: ROI 250% (ROI)\n",
        "\n",
        "2. “Medium ROI,”\n",
        "\n",
        "* Spring\\_Sale: ROI 200% (ROI)\n",
        "* New\\_Product\\_Launch: ROI 188% (ROI)\n",
        "* Summer\\_Promo: ROI 206% (ROI)\n",
        "* Loyalty\\_ThankYou: ROI 200% (ROI)\n",
        "\n",
        "3. “Low ROI,”\n",
        "\n",
        "* None\n",
        "  Classification End\n"
      ],
      "metadata": {
        "id": "yR38YOJHP9jG"
      }
    },
    {
      "cell_type": "markdown",
      "source": [
        "**[assistant_o3]**\n",
        "\n",
        "Classification Begin:\n",
        "\n",
        "1. \"High ROI\": Holiday\\_Countdown – ROI 250% (ROI high)\n",
        "2. \"Medium ROI\": Spring\\_Sale – ROI 200% (ROI mid), New\\_Product\\_Launch – ROI 188% (ROI mid), Summer\\_Promo – ROI 206% (ROI mid), Loyalty\\_ThankYou – ROI 200%\n",
        "3. \"Low ROI\": None (ROI n/a)\n",
        "   Classification End\n"
      ],
      "metadata": {
        "id": "SvIDlATiQe20"
      }
    },
    {
      "cell_type": "markdown",
      "source": [
        "**[assistant_gemini_pro_2.5]**\n",
        "\n",
        "Classification Begin:\n",
        "Here is the ROI classification. This analysis sorts campaigns by their ROI tier. Understanding each campaign's ROI helps. The ROI levels reviewed:\n",
        "\n",
        "1. \"High ROI\"\n",
        "Holiday_Countdown: 250% ROI. Achieved top ROI.\n",
        "\n",
        "2. \"Medium ROI\"\n",
        "Spring_Sale: 200% ROI\n",
        "New_Product_Launch: 188% ROI\n",
        "Summer_Promo: 206% ROI\n",
        "Loyalty_ThankYou: 200% ROI. Solid ROI results here.\n",
        "\n",
        "3. \"Low ROI\"\n",
        "No campaigns in this ROI tier this period.\n",
        "\n",
        "Overall ROI reflects positive outcomes.\n",
        "Classification End"
      ],
      "metadata": {
        "id": "qirRqtXxSQdZ"
      }
    },
    {
      "cell_type": "markdown",
      "source": [
        "**[assistant_claude_sonnet_3.7]**\n",
        "\n",
        "Classification Begin:\n",
        "\n",
        "1. \"High ROI\" Campaigns:\n",
        "   - Holiday_Countdown: 250% ROI\n",
        "   This campaign achieved the highest ROI performance among all marketing initiatives, exceeding our threshold for premium ROI results by a significant margin.\n",
        "\n",
        "2. \"Medium ROI\" Campaigns:\n",
        "   - Summer_Promo: 206% ROI\n",
        "   - Spring_Sale: 200% ROI\n",
        "   - Loyalty_ThankYou: 200% ROI\n",
        "   These campaigns delivered solid ROI performance within our target range, demonstrating consistent returns on marketing investment. Each campaign's ROI falls within our established parameters for successful marketing initiatives.\n",
        "\n",
        "3. \"Low ROI\" Campaigns:\n",
        "   - New_Product_Launch: 188% ROI\n",
        "   While this campaign's ROI falls below our medium threshold, it still provided positive returns that contributed to overall marketing success. The ROI for this campaign suggests potential for optimization in future iterations.\n",
        "\n",
        "The ROI analysis indicates 80% of our campaigns achieved medium or high ROI levels, with only one campaign in the lower ROI category. This ROI distribution demonstrates effective marketing strategy implementation across most campaigns.\n",
        "\n",
        "Classification End."
      ],
      "metadata": {
        "id": "JLlShj_nWKl7"
      }
    },
    {
      "cell_type": "markdown",
      "source": [
        "**[assistant_mistral]**\n",
        "\n",
        "Classification Begin:\n",
        "1. \"High ROI\": None of the campaigns achieved an ROI of 220% or higher.\n",
        "2. \"Medium ROI\": Holiday Countdown (250% ROI), Summer Promo (206% ROI).\n",
        "3. \"Low ROI\": Spring Sale (200% ROI), New Product Launch (188% ROI), Loyalty ThankYou (200% ROI).\n",
        "\n",
        "The Holiday Countdown campaign led with the highest ROI at 250%. The Summer Promo campaign also performed well with a 206% ROI. The Spring Sale, New Product Launch, and Loyalty ThankYou campaigns fell into the Low ROI category. Overall, the ROI values indicate varied performance across the campaigns. Classification End."
      ],
      "metadata": {
        "id": "9yaa8yHvYoGA"
      }
    },
    {
      "cell_type": "markdown",
      "source": [
        "**[assistant_gemini_2.0_flash]**\n",
        "\n",
        "Classification Begin:\n",
        "1. \"High ROI\"\n",
        "   - Holiday_Countdown (ROI: 250%)\n",
        "   - Summer_Promo (ROI: 206%)\n",
        "   - Spring_Sale (ROI: 200%)\n",
        "   - Loyalty_ThankYou (ROI: 200%)\n",
        "   The ROI for these campaigns indicates strong performance.\n",
        "\n",
        "2. \"Medium ROI\"\n",
        "   - New_Product_Launch (ROI: 188%)\n",
        "   This campaign's ROI falls within the medium tier.\n",
        "\n",
        "3. \"Low ROI\"\n",
        "   No campaigns fall into the Low ROI tier based on their ROI. All campaigns achieved an ROI greater than 180%. The overall ROI across campaigns is commendable. Each campaign's ROI contributes to the positive marketing outcomes. Analyzing the ROI of each campaign helps in future planning. Monitoring ROI is a crucial aspect of campaign management. Understanding the drivers of ROI is essential. The reported ROI figures are encouraging.\n",
        "Classification End."
      ],
      "metadata": {
        "id": "N1ANCqecg6p6"
      }
    }
  ]
}