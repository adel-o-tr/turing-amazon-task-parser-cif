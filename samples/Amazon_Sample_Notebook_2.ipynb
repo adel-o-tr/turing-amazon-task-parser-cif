{
  "nbformat": 4,
  "nbformat_minor": 0,
  "metadata": {
    "colab": {
      "provenance": []
    },
    "kernelspec": {
      "name": "python3",
      "display_name": "Python 3"
    },
    "language_info": {
      "name": "python"
    }
  },
  "cells": [
    {
      "cell_type": "markdown",
      "source": [
        "**[user]**\n",
        "\n",
        "hey.. ive got a draft onboarding email that I need you to transform with a bunch of specific formatting rules. Here’s what I need:\n",
        "\n",
        "It must start with Welcome Aboard: and wrap the entire message in triple angle-brackets, e.g. <<<Welcome …  >>>.\n",
        "Every sentence in the body should be First-Letter Capitalized (the rest lowercase).\n",
        "Include a numbered list of exactly 5 steps describing next actions.\n",
        "After the main text, add a JSON block with two arrays, \"key_topics\" and \"action_items\", each containing at least 4 entries.\n",
        "The word success must appear at least 2 times but no more than 4.\n",
        "Make sure there is at least one placeholder like {start_date}\n",
        "Any occurrence of the phrase best practices must be in quotes\n",
        "The total output must be between 80 and 90 words inclusive counting all the space separtaed units as words\n",
        "Finally, end with the sign-off Cheers, followed by the angular brackets\n",
        "<<< ... Cheers,>>>\n",
        "\n",
        "Here’s the draft to transform:  \n",
        "hi team welcome to the company we are thrilled to have you our first week will cover orientation security training and product walkthrough please reach out if you have any questions looking forward to your contributions\n",
        "\n",
        "Thanks!"
      ],
      "metadata": {
        "id": "99GXTABB2g_M"
      }
    },
    {
      "cell_type": "markdown",
      "source": [
        "**[turn_metadata]**\n",
        "\n",
        "```\n",
        "{\n",
        "  \"instruction_id_list\": [\n",
        "    \"startend:start_checker\",\n",
        "    \"startend:end_checker\",\n",
        "    \"detectable_format:numbered_list\",\n",
        "    \"detectable_content:number_placeholders\",\n",
        "    \"keywords:frequency\",\n",
        "    \"keywords:frequency\",\n",
        "    \"length_constraints:number_words\",\n",
        "    \"length_constraints:number_words\"\n",
        "  ],\n",
        "  \"kwargs\": [\n",
        "    {\n",
        "      \"start_phrase\": \"<<<Welcome Aboard:\"\n",
        "    },\n",
        "    {\n",
        "      \"end_phrase\": \"Cheers,>>>\"\n",
        "    },\n",
        "    {\n",
        "      \"relation\": \"equal to\",\n",
        "      \"num_numbered_items\": 5\n",
        "    },\n",
        "    {\n",
        "      \"relation\": \"at least\",\n",
        "      \"num_placeholders\": 1\n",
        "    },\n",
        "    {\n",
        "      \"keyword\": \"success\",\n",
        "      \"relation\": \"at least\",\n",
        "      \"frequency\": 2\n",
        "    },\n",
        "    {\n",
        "      \"keyword\": \"success\",\n",
        "      \"relation\": \"less than\",\n",
        "      \"frequency\": 5\n",
        "    },\n",
        "    {\n",
        "      \"relation\": \"at least\",\n",
        "      \"num_words\": 80\n",
        "    },\n",
        "    {\n",
        "      \"relation\": \"less than\",\n",
        "      \"num_words\": 91\n",
        "    }\n",
        "  ]\n",
        "}\n",
        "```"
      ],
      "metadata": {
        "id": "xn_TQnAJ61TL"
      }
    },
    {
      "cell_type": "markdown",
      "source": [
        "**[assistant]**\n",
        "\n",
        "<<<Welcome Aboard:\n",
        "\n",
        "Hi team welcome to your new journey starting {start_date}. Our first week covers orientation security training and a detailed product walkthrough. Please follow these \"best practices\" steps to ensure success:\n",
        "\n",
        "1. Review orientation materials carefully\n",
        "2. Complete mandatory security training modules\n",
        "3. Participate actively in product walkthrough\n",
        "4. Set up your workspace effectively\n",
        "5. Reach out promptly with questions\n",
        "\n",
        "Your engagement is key to everyone's success.\n",
        "\n",
        "{\n",
        "  \"key_topics\": [\"Orientation\", \"Security Training\", \"Product Walkthrough\", \"Workspace Setup\"],\n",
        "  \"action_items\": [\"Review Materials\", \"Complete Modules\", \"Engage in Walkthrough\", \"Set Up Workspace\"]\n",
        "}\n",
        "\n",
        "Cheers,>>>\n"
      ],
      "metadata": {
        "id": "zddvmf_r2iJC"
      }
    },
    {
      "cell_type": "markdown",
      "source": [
        "**[user]**\n",
        "\n",
        "let’s take that nboarding email and turn it into a Slack announcement. Here’s the new instruction set:\n",
        "\n",
        "start with\n",
        "/announce ONBOARDING UPDATE\n",
        "\n",
        "Include a bullet list of exactly 4 items, each bullet starting with :white_check_mark:\n",
        "\n",
        "The word \"team\" must appear at least 3 times, and success no more than once\n",
        "\n",
        "Use exactly one placeholder {team_lead}\n",
        "\n",
        "Ensure the whole output is between 70 and 75 words\n",
        "\n",
        "End with :calendar:\n",
        "\n",
        "Give me that full Slack-ready announcement."
      ],
      "metadata": {
        "id": "x0y9ySOT2iNi"
      }
    },
    {
      "cell_type": "markdown",
      "source": [
        "**[turn_metadata]**\n",
        "```\n",
        "{\n",
        "  \"instruction_id_list\": [\n",
        "    \"startend:start_checker\",\n",
        "    \"detectable_format:number_bullet_lists\",\n",
        "    \"keywords:frequency\",\n",
        "    \"keywords:frequency\",\n",
        "    \"detectable_content:number_placeholders\",\n",
        "    \"length_constraints:number_words\",\n",
        "    \"length_constraints:number_words\",\n",
        "    \"startend:end_checker\"\n",
        "  ],\n",
        "  \"kwargs\": [\n",
        "    {\"start_phrase\": \"/announce ONBOARDING UPDATE\"},\n",
        "    {\"relation\": \"equal to\", \"num_bullets\": 4},\n",
        "    {\"keyword\": \"team\", \"relation\": \"at least\", \"frequency\": 3},\n",
        "    {\"keyword\": \"success\", \"relation\": \"less than\", \"frequency\": 2},\n",
        "    {\"relation\": \"equal to\", \"num_placeholders\": 1},\n",
        "    {\"relation\": \"at least\", \"num_words\": 70},\n",
        "    {\"relation\": \"less than\", \"num_words\": 76},\n",
        "    {\"end_phrase\": \":calendar:\"}\n",
        "  ]\n",
        "}\n",
        "```"
      ],
      "metadata": {
        "id": "L2B-wbmOEaLh"
      }
    },
    {
      "cell_type": "markdown",
      "source": [
        "**[assistant]**\n",
        "\n",
        "/announce ONBOARDING UPDATE\n",
        "\n",
        "Hey team exciting onboarding news! Our team starts with {team_lead} guiding your journey. Here’s how the team will ensure a smooth start:\n",
        "\n",
        ":white_check_mark: Attend orientation sessions  \n",
        ":white_check_mark: Complete security training  \n",
        ":white_check_mark: Engage in product walkthrough  \n",
        ":white_check_mark: Prepare workspace setups  \n",
        "\n",
        "Team collaboration and active participation will lead us all to success. Reach out to your team for any help needed. Let's kick off together and make this onboarding memorable!\n",
        "\n",
        ":calendar:\n"
      ],
      "metadata": {
        "id": "-0e6M5iN2iRD"
      }
    },
    {
      "cell_type": "markdown",
      "source": [
        "**[user]**\n",
        "\n",
        "now i need you to dissect our Slack announcement draft with a mix of extraction and classification:\n",
        "\n",
        "Pull out exactly the four :white_check_mark: bullet items as they appear.\n",
        "Classify each one into one of these categories: “Product Walkthrough”, “Security Training”, “Orientation”,   or “Workspace Setup”.\n",
        "Detect the single placeholder token and return it in ALL CAPS.\n",
        "ensure “success” does not appear at all.\n",
        "Confirm that the letter “e” shows up at least 15 times across the response.\n",
        "Wrap your response in a json code block containing \"keys steps\", \"classification\", \"placeholder\", and \"e_count\". Keep the entire output under 400 characters.\n"
      ],
      "metadata": {
        "id": "S5DTRyc62iUD"
      }
    },
    {
      "cell_type": "markdown",
      "source": [
        "**[turn_metadata]**\n",
        "```\n",
        "{\n",
        "  \"instruction_id_list\": [\n",
        "    \"keywords:forbidden_words\",\n",
        "    \"detectable_content:number_placeholders\",\n",
        "    \"keywords:letter_frequency\",\n",
        "    \"length_constraints:number_characters\",\n",
        "    \"startend:wrap_checker\"\n",
        "  ],\n",
        "  \"kwargs\": [\n",
        "    {\"forbidden_words\": [\"success\"]},\n",
        "    {\"relation\": \"equal to\", \"num_placeholders\": 1},\n",
        "    {\"letter\": \"e\", \"let_relation\": \"at least\", \"let_frequency\": 15},\n",
        "    {\"relation\": \"less than\", \"num_chars\": 400},\n",
        "    {\"wrap_phrase\": \"```json\"}\n",
        "  ]\n",
        "}\n",
        "\n",
        "```"
      ],
      "metadata": {
        "id": "ZnOC2E0fE3-p"
      }
    },
    {
      "cell_type": "markdown",
      "source": [
        "**[assistant]**\n",
        "\n",
        "```json\n",
        "{\n",
        "  \"steps\": [\n",
        "    \"Attend orientation sessions\",\n",
        "    \"Complete security training\",\n",
        "    \"Engage in product walkthrough\",\n",
        "    \"Prepare workspace setups\"\n",
        "  ],\n",
        "  \"classification\": [\n",
        "    \"Orientation\",\n",
        "    \"Security Training\",\n",
        "    \"Product Walkthrough\",\n",
        "    \"Workspace Setup\"\n",
        "  ],\n",
        "  \"placeholder\": \"{TEAM_LEAD}\",\n",
        "  \"e_count\": 20\n",
        "}\n",
        "```"
      ],
      "metadata": {
        "id": "w06Ex5cqE4BQ"
      }
    },
    {
      "cell_type": "markdown",
      "source": [
        "**[incorrect-assistant]**\n",
        "\n",
        "```\n",
        "{\n",
        "  \"steps\": [\n",
        "    \"Attend orientation sessions\",\n",
        "    \"Complete security training\",\n",
        "    \"Engage in product walkthrough\",\n",
        "    \"Prepare workspace setups\"\n",
        "  ],\n",
        "  \"classification\": [\n",
        "    \"Orientation\",\n",
        "    \"Product Walkthrough\",\n",
        "    \"Security Training\",\n",
        "    \"Workspace Setup\"\n",
        "  ],\n",
        "  \"placeholder\": \"{TEAM_LEAD}\",\n",
        "  \"e_count\": 12\n",
        "}\n",
        "```\n",
        "\n",
        "\n"
      ],
      "metadata": {
        "id": "mxqG-ZZFRhLR"
      }
    }
  ]
}