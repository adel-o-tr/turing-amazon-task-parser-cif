{
 "cells": [
  {
   "cell_type": "code",
   "execution_count": 10,
   "metadata": {},
   "outputs": [],
   "source": [
    "import json\n",
    "import re\n",
    "import nbformat\n",
    "import os\n",
    "\n",
    "def extract_turns_from_markdown(markdown_text):\n",
    "    turns = []\n",
    "    # Split by user block (each turn starts with **[user]**)\n",
    "    blocks = re.split(r'\\*\\*\\[user\\]\\*\\*', markdown_text)\n",
    "\n",
    "    for block in blocks[1:]:  # skip any preamble before first user block\n",
    "        try:\n",
    "            prompt_match = re.search(r'\\n+(.*?)\\n+\\*\\*\\[assistant\\]\\*\\*', block, re.DOTALL)\n",
    "            response_match = re.search(r'\\*\\*\\[assistant\\]\\*\\*\\n+(.*?)\\n+\\*\\*\\[turn_metadata\\]\\*\\*', block, re.DOTALL)\n",
    "            metadata_match = re.search(r'\\*\\*\\[turn_metadata\\]\\*\\*\\n+```(?:json)?\\n(.+?)```', block, re.DOTALL)\n",
    "\n",
    "            prompt = prompt_match.group(1).strip() if prompt_match else \"\"\n",
    "            response = response_match.group(1).strip() if response_match else \"\"\n",
    "            instruction_block = metadata_match.group(1).strip() if metadata_match else \"{}\"\n",
    "            instruction_data = json.loads(instruction_block)\n",
    "\n",
    "            turn = {\n",
    "                \"prompt\": prompt,\n",
    "                \"response\": response,\n",
    "                \"instructions\": [\n",
    "                    {\n",
    "                        \"instruction_id_list\": instruction_data.get(\"instruction_id_list\", []),\n",
    "                        \"kwargs\": instruction_data.get(\"kwargs\", [])\n",
    "                    }\n",
    "                ]\n",
    "            }\n",
    "\n",
    "            turns.append(turn)\n",
    "        except Exception as e:\n",
    "            print(\"Skipping block due to error:\", e)\n",
    "            continue\n",
    "\n",
    "    return turns\n",
    "\n",
    "\n",
    "def process_notebook(ipynb_path, dialogue_id=None):\n",
    "    with open(ipynb_path, \"r\", encoding=\"utf-8\") as f:\n",
    "        nb = nbformat.read(f, as_version=4)\n",
    "\n",
    "    # Combine all markdown cells into one big string\n",
    "    full_markdown = \"\"\n",
    "    for cell in nb['cells']:\n",
    "        if cell['cell_type'] == 'markdown':\n",
    "            full_markdown += ''.join(cell['source']) + \"\\n\\n\"\n",
    "\n",
    "    turns = extract_turns_from_markdown(full_markdown)\n",
    "    result = {\n",
    "        \"turns\": turns,\n",
    "        \"dialogue_metadata\": {\n",
    "            \"id\": dialogue_id or os.path.basename(ipynb_path),\n",
    "            \"length\": len(turns)\n",
    "        }\n",
    "    }\n",
    "    return result\n"
   ]
  },
  {
   "cell_type": "code",
   "execution_count": 11,
   "metadata": {},
   "outputs": [
    {
     "name": "stdout",
     "output_type": "stream",
     "text": [
      "Processed 3 turns.\n",
      "Output saved to output.json\n"
     ]
    }
   ],
   "source": [
    "# Example usage\n",
    "if __name__ == \"__main__\":\n",
    "    input_path = \"./samples/sample-1.ipynb\"\n",
    "    output_path = \"output.json\"\n",
    "\n",
    "    dialogue = process_notebook(input_path, dialogue_id=\"sample-1\")\n",
    "    with open(output_path, \"w\", encoding=\"utf-8\") as f:\n",
    "        json.dump(dialogue, f, indent=2, ensure_ascii=False)\n",
    "\n",
    "    print(f\"Processed {dialogue['dialogue_metadata']['length']} turns.\")\n",
    "    print(f\"Output saved to {output_path}\")"
   ]
  }
 ],
 "metadata": {
  "kernelspec": {
   "display_name": "base",
   "language": "python",
   "name": "python3"
  },
  "language_info": {
   "codemirror_mode": {
    "name": "ipython",
    "version": 3
   },
   "file_extension": ".py",
   "mimetype": "text/x-python",
   "name": "python",
   "nbconvert_exporter": "python",
   "pygments_lexer": "ipython3",
   "version": "3.12.4"
  }
 },
 "nbformat": 4,
 "nbformat_minor": 2
}
